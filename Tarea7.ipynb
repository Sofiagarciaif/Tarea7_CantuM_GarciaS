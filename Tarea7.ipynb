{
 "cells": [
  {
   "cell_type": "markdown",
   "metadata": {},
   "source": [
    "<img style=\"float: left; margin: 30px 15px 15px 15px;\" src=\"https://pngimage.net/wp-content/uploads/2018/06/logo-iteso-png-5.png\" width=\"300\" height=\"500\" /> \n",
    "    \n",
    "    \n",
    "### <font color='navy'> Simulación de procesos financieros. \n",
    "\n",
    "**Nombres:** Maria Jose Cantu y Sofia Garcia Mora\n",
    "\n",
    "**Fecha:** 22 de octubre del 2020.\n",
    "\n",
    "**Expediente** : if708916 y if714303\n",
    "    \n",
    "**Profesor:** Oscar David Jaramillo Zuluaga.\n",
    "\n",
    "**LINK TAREA:** https://github.com/Sofiagarciaif/Tarea6_CantuM_GarciaS.git\n",
    "\n",
    "# Tarea7: Clase 14"
   ]
  },
  {
   "cell_type": "markdown",
   "metadata": {},
   "source": [
    "### Ejercicio 1: \n",
    "Aproxime el valor de la siguiente integral usando el método monte carlo crudo y método de reducción de varianza de muestreo estratíficado\n",
    "\n",
    "$$I=\\int_{0}^{1}x^2\\text{d}x=\\left.\\frac{x^3}{3}\\right|_{x=0}^{x=1}=\\frac{1}{3}\\approx 0.33333$$\n",
    "\n",
    "Pasos\n",
    "1. Cree una función que realice el método de muestreo estratíficado, recibiendo como único parámetro de entrada la cantidad de estratos y retornando las variables estratíficadas correspondientes.\n"
   ]
  },
  {
   "cell_type": "markdown",
   "metadata": {},
   "source": [
    "#### RESPUESTA SOFIA "
   ]
  },
  {
   "cell_type": "code",
   "execution_count": null,
   "metadata": {},
   "outputs": [],
   "source": []
  },
  {
   "cell_type": "markdown",
   "metadata": {},
   "source": [
    "#### RESPUESTA MAJO"
   ]
  },
  {
   "cell_type": "code",
   "execution_count": 2,
   "metadata": {},
   "outputs": [],
   "source": [
    "import numpy as np\n",
    "from functools import reduce\n",
    "import matplotlib.pyplot as plt\n",
    "import scipy.stats as st\n",
    "import pandas as pd"
   ]
  },
  {
   "cell_type": "code",
   "execution_count": 3,
   "metadata": {},
   "outputs": [],
   "source": [
    "# Integración montecarlo\n",
    "def int_montecarlo(f:'Función a integrar',\n",
    "                   a:'Límite inferior de la integral',\n",
    "                   b:'Límite superior de la integral',\n",
    "                   U:'Muestra de números U~[a,b]'):\n",
    "    return (b-a)/len(U)*np.sum(f(U))"
   ]
  },
  {
   "cell_type": "code",
   "execution_count": 4,
   "metadata": {},
   "outputs": [],
   "source": [
    "def estratos(a, b, N):\n",
    "    U2 = np.random.uniform(a,b,N)\n",
    "    i = np.arange(0,N)\n",
    "    v = (U2+i)/N\n",
    "    return v\n",
    "    "
   ]
  },
  {
   "cell_type": "code",
   "execution_count": null,
   "metadata": {},
   "outputs": [],
   "source": []
  },
  {
   "cell_type": "markdown",
   "metadata": {},
   "source": [
    "2. Reporte los resultados de la aproximación de la integral usando montecarlo crudo y muestreo estratíficado, en un Dataframe con la información mostrada en la siguiente imagen:\n",
    "![imagen.png](attachment:imagen.png)"
   ]
  },
  {
   "cell_type": "markdown",
   "metadata": {},
   "source": [
    "#### RESPUESTA SOFIA "
   ]
  },
  {
   "cell_type": "code",
   "execution_count": null,
   "metadata": {},
   "outputs": [],
   "source": []
  },
  {
   "cell_type": "markdown",
   "metadata": {},
   "source": [
    "#### RESPUESTA MAJO"
   ]
  },
  {
   "cell_type": "code",
   "execution_count": 5,
   "metadata": {},
   "outputs": [
    {
     "data": {
      "text/html": [
       "<div>\n",
       "<style scoped>\n",
       "    .dataframe tbody tr th:only-of-type {\n",
       "        vertical-align: middle;\n",
       "    }\n",
       "\n",
       "    .dataframe tbody tr th {\n",
       "        vertical-align: top;\n",
       "    }\n",
       "\n",
       "    .dataframe thead th {\n",
       "        text-align: right;\n",
       "    }\n",
       "</style>\n",
       "<table border=\"1\" class=\"dataframe\">\n",
       "  <thead>\n",
       "    <tr style=\"text-align: right;\">\n",
       "      <th></th>\n",
       "      <th>Montecarlo Crudo</th>\n",
       "      <th>Error_relativo1%</th>\n",
       "      <th>Muestreo estratificado</th>\n",
       "      <th>Error_relativo2%</th>\n",
       "    </tr>\n",
       "    <tr>\n",
       "      <th>Cantidad_terminos</th>\n",
       "      <th></th>\n",
       "      <th></th>\n",
       "      <th></th>\n",
       "      <th></th>\n",
       "    </tr>\n",
       "  </thead>\n",
       "  <tbody>\n",
       "    <tr>\n",
       "      <th>10</th>\n",
       "      <td>0.249230</td>\n",
       "      <td>25.230962</td>\n",
       "      <td>0.313879</td>\n",
       "      <td>5.836327e+00</td>\n",
       "    </tr>\n",
       "    <tr>\n",
       "      <th>100</th>\n",
       "      <td>0.441810</td>\n",
       "      <td>32.542851</td>\n",
       "      <td>0.333674</td>\n",
       "      <td>1.023314e-01</td>\n",
       "    </tr>\n",
       "    <tr>\n",
       "      <th>1000</th>\n",
       "      <td>0.325341</td>\n",
       "      <td>2.397702</td>\n",
       "      <td>0.333340</td>\n",
       "      <td>2.007848e-03</td>\n",
       "    </tr>\n",
       "    <tr>\n",
       "      <th>10000</th>\n",
       "      <td>0.335039</td>\n",
       "      <td>0.511837</td>\n",
       "      <td>0.333333</td>\n",
       "      <td>7.847706e-05</td>\n",
       "    </tr>\n",
       "    <tr>\n",
       "      <th>100000</th>\n",
       "      <td>0.335053</td>\n",
       "      <td>0.515837</td>\n",
       "      <td>0.333333</td>\n",
       "      <td>3.815474e-07</td>\n",
       "    </tr>\n",
       "    <tr>\n",
       "      <th>1000000</th>\n",
       "      <td>0.333029</td>\n",
       "      <td>0.091444</td>\n",
       "      <td>0.333333</td>\n",
       "      <td>1.335098e-07</td>\n",
       "    </tr>\n",
       "    <tr>\n",
       "      <th>10000000</th>\n",
       "      <td>0.333472</td>\n",
       "      <td>0.041490</td>\n",
       "      <td>0.333333</td>\n",
       "      <td>4.003431e-09</td>\n",
       "    </tr>\n",
       "  </tbody>\n",
       "</table>\n",
       "</div>"
      ],
      "text/plain": [
       "                   Montecarlo Crudo  Error_relativo1%  Muestreo estratificado  \\\n",
       "Cantidad_terminos                                                               \n",
       "10                         0.249230         25.230962                0.313879   \n",
       "100                        0.441810         32.542851                0.333674   \n",
       "1000                       0.325341          2.397702                0.333340   \n",
       "10000                      0.335039          0.511837                0.333333   \n",
       "100000                     0.335053          0.515837                0.333333   \n",
       "1000000                    0.333029          0.091444                0.333333   \n",
       "10000000                   0.333472          0.041490                0.333333   \n",
       "\n",
       "                   Error_relativo2%  \n",
       "Cantidad_terminos                    \n",
       "10                     5.836327e+00  \n",
       "100                    1.023314e-01  \n",
       "1000                   2.007848e-03  \n",
       "10000                  7.847706e-05  \n",
       "100000                 3.815474e-07  \n",
       "1000000                1.335098e-07  \n",
       "10000000               4.003431e-09  "
      ]
     },
     "execution_count": 5,
     "metadata": {},
     "output_type": "execute_result"
    }
   ],
   "source": [
    "I = 1/3\n",
    "# intervalo de integración\n",
    "a = 0; b = 1\n",
    "\n",
    "# Cantidad de términos, en escala logarítmica\n",
    "N = np.logspace(1,7,7,dtype=int)\n",
    "\n",
    "# Definimos la tabla donde se mostrarán los resultados\n",
    "df = pd.DataFrame(index=N,columns=['Montecarlo Crudo', 'Error_relativo1%', 'Muestreo estratificado', 'Error_relativo2%'], dtype='float')\n",
    "df.index.name = \"Cantidad_terminos\"\n",
    "\n",
    "# Números aleatorios dependiente de la cantidad de términos N\n",
    "ui = list(map(lambda N:np.random.uniform(a,b,N),N)) #Montecarlo Crudo\n",
    "ui_est = list(map(lambda N: estratos(a,b,N),N)) #Estratificado\n",
    "\n",
    "# Calculamos la aproximación por montecarlo dependiendo de la cantidad de\n",
    "# términos que hayamos creado con ui\n",
    "I_m = list(map(lambda Y:int_montecarlo(lambda x:x**2,a,b,Y),ui)) #Montecarlo\n",
    "I_m_est = list(map(lambda Y:int_montecarlo(lambda x:x**2,a,b,Y),ui_est)) #Estratificado\n",
    "\n",
    "# Mostramos los resultados en la tabla previamente creada\n",
    "df.loc[N,\"Montecarlo Crudo\"] = I_m\n",
    "df.loc[N,\"Error_relativo1%\"] = np.abs(df.loc[N,\"Montecarlo Crudo\"]-I)*100/I\n",
    "\n",
    "df.loc[N,\"Muestreo estratificado\"] = I_m_est\n",
    "df.loc[N,\"Error_relativo2%\"] = np.abs(df.loc[N,\"Muestreo estratificado\"]-I)*100/I\n",
    "df"
   ]
  }
 ],
 "metadata": {
  "kernelspec": {
   "display_name": "Python 3",
   "language": "python",
   "name": "python3"
  },
  "language_info": {
   "codemirror_mode": {
    "name": "ipython",
    "version": 3
   },
   "file_extension": ".py",
   "mimetype": "text/x-python",
   "name": "python",
   "nbconvert_exporter": "python",
   "pygments_lexer": "ipython3",
   "version": "3.8.3"
  }
 },
 "nbformat": 4,
 "nbformat_minor": 2
}
